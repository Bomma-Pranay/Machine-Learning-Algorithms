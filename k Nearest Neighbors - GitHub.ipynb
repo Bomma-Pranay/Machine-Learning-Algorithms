{
 "cells": [
  {
   "cell_type": "markdown",
   "metadata": {},
   "source": [
    "# Preface\n",
    "\n",
    "## \"Introduction and a detailed explanation of the k Nearest Neighbors Algorithm\".\n",
    "### Medium blog - https://lnkd.in/dV-pR3d\n",
    "### In this Jupyter Notebook, I have discussed the following,\n",
    "1. What is kNN and where can it be used.\n",
    "2. How it works with an example.\n",
    "3. Explanation of Python code\n",
    "4. Problems of kNN\n",
    "\n",
    "### Connect with me -\n",
    "\n",
    " #### LinkedIn : https://linkedin.com/in/bomma-pranay  \n",
    " #### GitHub   : https://github.com/Bomma-Pranay\n",
    "\n",
    "                                                                    -- By\n",
    "                                                                       Bomma Pranay\n",
    "                                                                       A Data Science Enthusiast"
   ]
  },
  {
   "cell_type": "markdown",
   "metadata": {},
   "source": [
    "## What is kNN?"
   ]
  },
  {
   "cell_type": "markdown",
   "metadata": {},
   "source": [
    "k-Nearest Neighbors is one of the easiest Machine Learning algorithms. It is a “Classification” algorithm to be specific. But due to its generic procedure, it can be also used for feature selection, outlier detection(Wilson editing), and missing value imputations. It is also called Instance-Based Learning and Lazy Learning because at training time it does nothing! In the kNN, the hyper-parameter is “k”."
   ]
  },
  {
   "cell_type": "markdown",
   "metadata": {},
   "source": [
    "## Working of kNN"
   ]
  },
  {
   "cell_type": "markdown",
   "metadata": {},
   "source": [
    "kNN has a simple working mechanism. I will explain it in 4 steps. When a test point comes in, this is what we do in kNN,\n",
    "\n",
    "1. Fix the value of k\n",
    "2. Find k nearest neighbors by Euclidean distance formula( or any distance finding algorithm )\n",
    "3. Vote the class labels\n",
    "4. Prediction\n",
    "\n",
    "Let me illustrate kNN with a simple example. Let us assume that our data set has 3 class labels( A, B, C). Let us fix the value of k as 3 i.e we find 3 nearest neighbors. Now when a test point comes in, we find the 3 nearest neighbors in our data set. Let us assume that our algorithm gave us the 3 nearest neighbors as A, A, C. Since, the test point must belong to only one class, we have to select only one out of A, A, C. We introduce a voting mechanism now since A’s are 2 and C’s are 1. “A” wins the game and we assign the test point belongs to the class label “A”. It is as simple as that!\n",
    "\n",
    "Now, let us look at the detailed explanation with code."
   ]
  },
  {
   "cell_type": "markdown",
   "metadata": {},
   "source": [
    "## Explanation of kNN Algorithm"
   ]
  },
  {
   "cell_type": "markdown",
   "metadata": {},
   "source": [
    "### 0. Import the required libraries"
   ]
  },
  {
   "cell_type": "code",
   "execution_count": 15,
   "metadata": {},
   "outputs": [],
   "source": [
    "import numpy as np\n",
    "import pandas as pd\n",
    "import matplotlib.pyplot as plt\n",
    "import seaborn as sns\n",
    "import csv\n",
    "import random as rnd\n",
    "import random\n",
    "import math\n",
    "import operator\n",
    "from sklearn import datasets"
   ]
  },
  {
   "cell_type": "markdown",
   "metadata": {},
   "source": [
    "Let us work on the famous Iris dataset. Look at the Iris data set(http://archive.ics.uci.edu/ml/datasets/Iris/) if you don’t know about it. The first step is to load the data set and then splitting our data set into training data and test data."
   ]
  },
  {
   "cell_type": "markdown",
   "metadata": {},
   "source": [
    "### 1. Load the dataset and split the dataset"
   ]
  },
  {
   "cell_type": "markdown",
   "metadata": {},
   "source": [
    "The Iris data set can be loaded in 2 ways. One way is loading it from sklearn library and the second way is to load it from your local desktop. Let’s follow the second approach."
   ]
  },
  {
   "cell_type": "code",
   "execution_count": 16,
   "metadata": {},
   "outputs": [],
   "source": [
    "def loadDataset(filename, split, trainingSet=[] , testSet=[]):\n",
    "    with open(filename, 'r') as csvfile:\n",
    "        lines = csv.reader(csvfile)\n",
    "        dataset = list(lines)\n",
    "        for x in range(len(dataset)-1):\n",
    "            for y in range(4):\n",
    "                dataset[x][y] = float(dataset[x][y])\n",
    "            if random.random() < split:\n",
    "                trainingSet.append(dataset[x])\n",
    "            else:\n",
    "                testSet.append(dataset[x])\n"
   ]
  },
  {
   "cell_type": "markdown",
   "metadata": {},
   "source": [
    "loadDataset is the function of loading our data set. We open the file in read mode as a CSV file. Since our dataset is of comma-separated values, we use CSV reader. We run a loop, and, in each iteration, we convert the data type and split the data point into the train or test depending upon the random function’s returned value."
   ]
  },
  {
   "cell_type": "markdown",
   "metadata": {},
   "source": [
    "By default, the values in the data set are read as Strings. But the values ( sepal length, sepal width, petal length and, petal width ) should be of float type. So we convert them into floating type."
   ]
  },
  {
   "cell_type": "markdown",
   "metadata": {},
   "source": [
    "Now, we have to split our dataset into 2 parts. We randomly split the dataset and populate the training and test data set."
   ]
  },
  {
   "cell_type": "markdown",
   "metadata": {},
   "source": [
    "Let’s call this function."
   ]
  },
  {
   "cell_type": "code",
   "execution_count": 17,
   "metadata": {},
   "outputs": [
    {
     "name": "stdout",
     "output_type": "stream",
     "text": [
      "Train set is  95\n",
      "Test set is   54\n"
     ]
    }
   ],
   "source": [
    "trainingSet=[]\n",
    "testSet=[]\n",
    "split = 0.67\n",
    "loadDataset('iris.csv', split, trainingSet, testSet)\n",
    "print('Train set is ', repr(len(trainingSet)))\n",
    "print('Test set is  ' , repr(len(testSet)))"
   ]
  },
  {
   "cell_type": "markdown",
   "metadata": {},
   "source": [
    "After this is done, we can see that our data set has been successfully split into train and test. Moving onto the next step."
   ]
  },
  {
   "cell_type": "markdown",
   "metadata": {},
   "source": [
    "### 2. Defining distance and neighbors function"
   ]
  },
  {
   "cell_type": "code",
   "execution_count": 18,
   "metadata": {},
   "outputs": [],
   "source": [
    "def euclideanDistance(instance1, instance2, length):\n",
    "    distance = 0\n",
    "    for x in range(length):\n",
    "        distance += pow((instance1[x] - instance2[x]), 2)\n",
    "    return math.sqrt(distance)\n",
    "\n",
    "def getNeighbors(trainingSet, testInstance, k):\n",
    "    distances = []\n",
    "    length = len(testInstance)-1\n",
    "    for x in range(len(trainingSet)):\n",
    "        dist = euclideanDistance(testInstance, trainingSet[x], length)\n",
    "        distances.append((trainingSet[x], dist))\n",
    "    distances.sort(key=operator.itemgetter(1))\n",
    "    neighbors = []\n",
    "    for x in range(k):\n",
    "        neighbors.append(distances[x][0])\n",
    "    return neighbors"
   ]
  },
  {
   "cell_type": "markdown",
   "metadata": {},
   "source": [
    "As I have said earlier, in the kNN algorithm, we measure the distance between 2 points by Euclidean principle. This exact thing is done in the “euclideanDistance” function. If we have 3 dimensions, then the formula becomes √(x2−x1)² + (y2−y1)²+ (z2−z1)² But in our dataset, we have four dimensions/columns ( sepal length, sepal width, petal length and, petal width ) so we add an extra term in the above formula and then return the distance. “length” parameter is the number of dimensions in our dataset i.e 4."
   ]
  },
  {
   "cell_type": "markdown",
   "metadata": {},
   "source": [
    "In the getNeighbors function, given a test point, the entire training data, the value of “k”, the function should return k nearest neighbors of that test point in the entire training set. To achieve this, we run a loop for the entire training data set, and in each iteration, we find the distance between the test point and training point. After calculating all the distances, we sort the distances in ascending order because we need only the first “k” nearest neighbors. We return the nearest neighbors."
   ]
  },
  {
   "cell_type": "markdown",
   "metadata": {},
   "source": [
    "### 3. Voting"
   ]
  },
  {
   "cell_type": "code",
   "execution_count": 19,
   "metadata": {},
   "outputs": [],
   "source": [
    "def getResponse(neighbors):\n",
    "    classVotes = {}\n",
    "    for x in range(len(neighbors)):\n",
    "        response = neighbors[x][-1]\n",
    "        if response in classVotes:\n",
    "            classVotes[response] += 1\n",
    "        else:\n",
    "            classVotes[response] = 1\n",
    "    sortedVotes = sorted(classVotes.items(), key=operator.itemgetter(1), reverse=True)\n",
    "    return sortedVotes[0][0]"
   ]
  },
  {
   "cell_type": "markdown",
   "metadata": {},
   "source": [
    "As in the previous example, when we had 2 A’s and 1 C, we have chosen A as the class label for the test point. In this function, we exactly do that. After finding k nearest neighbors, we have to vote the class labels. This can be easily done by populating classVotes dictionary. After populating the dictionary, we need to sort the dictionary so as to see who the winner is! And we return the winner!"
   ]
  },
  {
   "cell_type": "markdown",
   "metadata": {},
   "source": [
    "### 4. Finding the accuracy of our model"
   ]
  },
  {
   "cell_type": "markdown",
   "metadata": {},
   "source": [
    "Creating a model is not enough, the model’s accuracy should be reasonably good. Now, accuracy is the (total predictions made by our model divided by the correct predictions). Checking out the accuracy is simple. It is as follows,"
   ]
  },
  {
   "cell_type": "code",
   "execution_count": 20,
   "metadata": {},
   "outputs": [],
   "source": [
    "def getAccuracy(testSet, predictions):\n",
    "    correct = 0\n",
    "    for x in range(len(testSet)):\n",
    "        if testSet[x][-1] == predictions[x]:\n",
    "            correct += 1\n",
    "    return (correct/float(len(testSet))) * 100.0"
   ]
  },
  {
   "cell_type": "markdown",
   "metadata": {},
   "source": [
    "All our predictions are stored in the “predictions” list. Our correct predictions are stored in our test data. So we compare the predicted class labels with the original class labels and finally return the accuracy."
   ]
  },
  {
   "cell_type": "markdown",
   "metadata": {},
   "source": [
    "### 5. Testing our model"
   ]
  },
  {
   "cell_type": "markdown",
   "metadata": {},
   "source": [
    "Here comes the important step which is “Testing our model”. We test our model on the test data and find the accuracy of our model."
   ]
  },
  {
   "cell_type": "code",
   "execution_count": 22,
   "metadata": {},
   "outputs": [
    {
     "name": "stdout",
     "output_type": "stream",
     "text": [
      "Predicted is  'setosa' Actual is  'setosa'\n",
      "Predicted is  'setosa' Actual is  'setosa'\n",
      "Predicted is  'setosa' Actual is  'setosa'\n",
      "Predicted is  'setosa' Actual is  'setosa'\n",
      "Predicted is  'setosa' Actual is  'setosa'\n",
      "Predicted is  'setosa' Actual is  'setosa'\n",
      "Predicted is  'setosa' Actual is  'setosa'\n",
      "Predicted is  'setosa' Actual is  'setosa'\n",
      "Predicted is  'setosa' Actual is  'setosa'\n",
      "Predicted is  'setosa' Actual is  'setosa'\n",
      "Predicted is  'setosa' Actual is  'setosa'\n",
      "Predicted is  'setosa' Actual is  'setosa'\n",
      "Predicted is  'setosa' Actual is  'setosa'\n",
      "Predicted is  'setosa' Actual is  'setosa'\n",
      "Predicted is  'versicolor' Actual is  'versicolor'\n",
      "Predicted is  'versicolor' Actual is  'versicolor'\n",
      "Predicted is  'versicolor' Actual is  'versicolor'\n",
      "Predicted is  'versicolor' Actual is  'versicolor'\n",
      "Predicted is  'versicolor' Actual is  'versicolor'\n",
      "Predicted is  'versicolor' Actual is  'versicolor'\n",
      "Predicted is  'versicolor' Actual is  'versicolor'\n",
      "Predicted is  'versicolor' Actual is  'versicolor'\n",
      "Predicted is  'versicolor' Actual is  'versicolor'\n",
      "Predicted is  'versicolor' Actual is  'versicolor'\n",
      "Predicted is  'versicolor' Actual is  'versicolor'\n",
      "Predicted is  'versicolor' Actual is  'versicolor'\n",
      "Predicted is  'versicolor' Actual is  'versicolor'\n",
      "Predicted is  'versicolor' Actual is  'versicolor'\n",
      "Predicted is  'versicolor' Actual is  'versicolor'\n",
      "Predicted is  'versicolor' Actual is  'versicolor'\n",
      "Predicted is  'versicolor' Actual is  'versicolor'\n",
      "Predicted is  'virginica' Actual is  'virginica'\n",
      "Predicted is  'virginica' Actual is  'virginica'\n",
      "Predicted is  'versicolor' Actual is  'virginica'\n",
      "Predicted is  'virginica' Actual is  'virginica'\n",
      "Predicted is  'virginica' Actual is  'virginica'\n",
      "Predicted is  'virginica' Actual is  'virginica'\n",
      "Predicted is  'virginica' Actual is  'virginica'\n",
      "Predicted is  'virginica' Actual is  'virginica'\n",
      "Predicted is  'virginica' Actual is  'virginica'\n",
      "Predicted is  'virginica' Actual is  'virginica'\n",
      "Predicted is  'virginica' Actual is  'virginica'\n",
      "Predicted is  'versicolor' Actual is  'virginica'\n",
      "Predicted is  'virginica' Actual is  'virginica'\n",
      "Predicted is  'virginica' Actual is  'virginica'\n",
      "Predicted is  'versicolor' Actual is  'virginica'\n",
      "Predicted is  'virginica' Actual is  'virginica'\n",
      "Predicted is  'virginica' Actual is  'virginica'\n",
      "Predicted is  'virginica' Actual is  'virginica'\n",
      "Predicted is  'virginica' Actual is  'virginica'\n",
      "Predicted is  'virginica' Actual is  'virginica'\n",
      "Predicted is  'versicolor' Actual is  'virginica'\n",
      "Predicted is  'virginica' Actual is  'virginica'\n",
      "Predicted is  'virginica' Actual is  'virginica'\n",
      "\n",
      "\n",
      "Accuracy: 92.5925925925926%\n"
     ]
    }
   ],
   "source": [
    "predictions=[]\n",
    "k = 3\n",
    "for x in range(len(testSet)):\n",
    "    neighbors = getNeighbors(trainingSet, testSet[x], k)\n",
    "    result = getResponse(neighbors)\n",
    "    predictions.append(result)\n",
    "    print('Predicted is  ' + repr(result) + ' Actual is  ' + repr(testSet[x][-1]))\n",
    "accuracy = getAccuracy(testSet, predictions)\n",
    "print('\\n\\nAccuracy: ' + repr(accuracy) + '%')"
   ]
  },
  {
   "cell_type": "markdown",
   "metadata": {},
   "source": [
    "\n",
    "#### We have chosen the value of “k” as 3. and for each test point in the test data set, we find its nearest neighbors and vote it. We store all our predictions in the “predictions” list. Finally, we check the accuracy of our model!\n",
    "\n",
    "#### We have got 92.5% accuracy!!\n",
    "\n",
    "\n",
    "#### And that’s it, we have coded up the kNN algorithm from scratch!! Isn’t it easy and fun?"
   ]
  },
  {
   "cell_type": "markdown",
   "metadata": {},
   "source": [
    "### Problems of kNN"
   ]
  },
  {
   "cell_type": "markdown",
   "metadata": {},
   "source": [
    "So far, we have seen how the kNN works and where it can be used, but what are its problems? In short, it has 2 major problems.\n",
    "\n",
    "The first one is “Large computation time”. Since at train time, it does nothing and at test time, the distances should be computed. The computation of distance highly depends on our number of features/dimensions/columns in the dataset. If there are more features, then the computation of distance becomes time-consuming.\n",
    "\n",
    "The second thing, “Large model size”. Since, at train time it does nothing, in kNN our model is data. Data=model in kNN. If our data is huge. Then our model is also huge, which is a problem."
   ]
  },
  {
   "cell_type": "markdown",
   "metadata": {},
   "source": [
    "# Thank You !"
   ]
  }
 ],
 "metadata": {
  "kernelspec": {
   "display_name": "Python 3",
   "language": "python",
   "name": "python3"
  },
  "language_info": {
   "codemirror_mode": {
    "name": "ipython",
    "version": 3
   },
   "file_extension": ".py",
   "mimetype": "text/x-python",
   "name": "python",
   "nbconvert_exporter": "python",
   "pygments_lexer": "ipython3",
   "version": "3.7.1"
  },
  "varInspector": {
   "cols": {
    "lenName": 16,
    "lenType": 16,
    "lenVar": 40
   },
   "kernels_config": {
    "python": {
     "delete_cmd_postfix": "",
     "delete_cmd_prefix": "del ",
     "library": "var_list.py",
     "varRefreshCmd": "print(var_dic_list())"
    },
    "r": {
     "delete_cmd_postfix": ") ",
     "delete_cmd_prefix": "rm(",
     "library": "var_list.r",
     "varRefreshCmd": "cat(var_dic_list()) "
    }
   },
   "types_to_exclude": [
    "module",
    "function",
    "builtin_function_or_method",
    "instance",
    "_Feature"
   ],
   "window_display": false
  }
 },
 "nbformat": 4,
 "nbformat_minor": 4
}
